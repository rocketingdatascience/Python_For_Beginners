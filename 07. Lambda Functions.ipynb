{
 "cells": [
  {
   "cell_type": "markdown",
   "metadata": {},
   "source": [
    "# Python\n",
    "\n",
    "1. Variables and Operatores\n",
    "2. Data Structures\n",
    "3. Flow Control with Loops and If Statements\n",
    "4. Import Python Modules\n",
    "5. Functions\n",
    "6. __Lambda Functions__\n",
    "7. Input-Output Operations to Files\n",
    "8. Classes\n",
    "9. Numpy\n",
    "10. Pandas\n",
    "11. Matplolib\n",
    "14. Project\n",
    "\n",
    "\n",
    "# Lambda Functions\n",
    "\n",
    "Although functions can simplify a lot the structure of your program, functions can even be made more simple.\n",
    "A Lambda function is a particular type of function that is writen inline, making it easy to interact with other python\n",
    "elements. Bellow is an example of a lambda function assigned to x"
   ]
  },
  {
   "cell_type": "code",
   "execution_count": 12,
   "metadata": {},
   "outputs": [],
   "source": [
    "def fSUM(x, y):\n",
    "    output = x + y\n",
    "    return output"
   ]
  },
  {
   "cell_type": "code",
   "execution_count": 13,
   "metadata": {},
   "outputs": [
    {
     "data": {
      "text/plain": [
       "35"
      ]
     },
     "execution_count": 13,
     "metadata": {},
     "output_type": "execute_result"
    }
   ],
   "source": [
    "fSUM(10, 25)"
   ]
  },
  {
   "cell_type": "code",
   "execution_count": 14,
   "metadata": {},
   "outputs": [],
   "source": [
    "# Let's define our first lambda function, a sum\n",
    "lambdaSUM = lambda x,y: x+y"
   ]
  },
  {
   "cell_type": "code",
   "execution_count": 16,
   "metadata": {},
   "outputs": [
    {
     "data": {
      "text/plain": [
       "35"
      ]
     },
     "execution_count": 16,
     "metadata": {},
     "output_type": "execute_result"
    }
   ],
   "source": [
    "lambdaSUM(10,25)"
   ]
  },
  {
   "cell_type": "markdown",
   "metadata": {},
   "source": [
    "Lambda functions can be used together with __map()__ to easily apply the same operation over each element of, for\n",
    "instance, a List. In the next example we use twice lambda functions: the first to add one to each element of a list; the\n",
    "second to compute the square of each element.\n",
    "\n",
    "Note that __map(arg1,arg2)__ applies a __function__ (arg1) to the __collection__ (arg2)."
   ]
  },
  {
   "cell_type": "code",
   "execution_count": 8,
   "metadata": {},
   "outputs": [
    {
     "data": {
      "text/plain": [
       "[15.0, 23.0, 33.0, 41.0, 65.0]"
      ]
     },
     "execution_count": 8,
     "metadata": {},
     "output_type": "execute_result"
    }
   ],
   "source": [
    "values = [0.15,0.23,0.33,0.41,0.65]\n",
    "\n",
    "AddOne = lambda i: i*100 #multiply i by 100\n",
    "\n",
    "list(map(AddOne, a))"
   ]
  },
  {
   "cell_type": "code",
   "execution_count": 29,
   "metadata": {},
   "outputs": [
    {
     "name": "stdout",
     "output_type": "stream",
     "text": [
      "[0.5, 0.6666666666666666, 1.5, 0.8, 2.5]\n"
     ]
    }
   ],
   "source": [
    "floorDiv = lambda i,u: i/u\n",
    "\n",
    "u = [2, 3, 2, 5, 2]\n",
    "\n",
    "print(list(map(floorDiv, (a),(u))))"
   ]
  }
 ],
 "metadata": {
  "kernelspec": {
   "display_name": "Python 3",
   "language": "python",
   "name": "python3"
  },
  "language_info": {
   "codemirror_mode": {
    "name": "ipython",
    "version": 3
   },
   "file_extension": ".py",
   "mimetype": "text/x-python",
   "name": "python",
   "nbconvert_exporter": "python",
   "pygments_lexer": "ipython3",
   "version": "3.7.4"
  },
  "toc": {
   "base_numbering": 1,
   "nav_menu": {},
   "number_sections": true,
   "sideBar": true,
   "skip_h1_title": true,
   "title_cell": "Table of Contents",
   "title_sidebar": "Contents",
   "toc_cell": false,
   "toc_position": {},
   "toc_section_display": true,
   "toc_window_display": false
  },
  "varInspector": {
   "cols": {
    "lenName": 16,
    "lenType": 16,
    "lenVar": 40
   },
   "kernels_config": {
    "python": {
     "delete_cmd_postfix": "",
     "delete_cmd_prefix": "del ",
     "library": "var_list.py",
     "varRefreshCmd": "print(var_dic_list())"
    },
    "r": {
     "delete_cmd_postfix": ") ",
     "delete_cmd_prefix": "rm(",
     "library": "var_list.r",
     "varRefreshCmd": "cat(var_dic_list()) "
    }
   },
   "types_to_exclude": [
    "module",
    "function",
    "builtin_function_or_method",
    "instance",
    "_Feature"
   ],
   "window_display": false
  }
 },
 "nbformat": 4,
 "nbformat_minor": 2
}
