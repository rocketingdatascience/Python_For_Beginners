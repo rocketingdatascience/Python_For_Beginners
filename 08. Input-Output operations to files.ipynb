{
 "cells": [
  {
   "cell_type": "markdown",
   "metadata": {},
   "source": [
    "# Input-Ouput operations to files"
   ]
  },
  {
   "cell_type": "markdown",
   "metadata": {},
   "source": [
    "In this video I'll show you a little bit of Input-Output operations o files. I'll be brief because I'll talk about it later with other tools. However, this is also important to know.\n",
    "\n",
    "Files can be open by using the function open(), which takes two arguments: the first is the file address; and the second\n",
    "is the opening mode. There are some mode to open a file. The most common/useful are listed below:\n",
    "    \n",
    "1. __r__ : This mode indicate that file will be open for reading only\n",
    "2. __w__ : This mode indicate that file will be open for writing only. If file containing containing that name does not exists, it will create a new one\n",
    "3. __a__ : This mode indicate that the output of that program will be append to the previous output of that file\n",
    "4. __r+__ : This mode indicate that file will be open for both reading and writing\n",
    "\n",
    "# TXT Files"
   ]
  },
  {
   "cell_type": "code",
   "execution_count": 2,
   "metadata": {},
   "outputs": [],
   "source": [
    "#Let's open a stream to write data in a text file\n",
    "\n",
    "datafile = open('file.txt', 'w+') \n",
    "\n",
    "# once this file doesn't exist it will create a new one\n",
    "# if you don't specify the action, it will open as reading"
   ]
  },
  {
   "cell_type": "code",
   "execution_count": 3,
   "metadata": {},
   "outputs": [
    {
     "data": {
      "text/plain": [
       "<_io.TextIOWrapper name='file.txt' mode='w+' encoding='cp1252'>"
      ]
     },
     "execution_count": 3,
     "metadata": {},
     "output_type": "execute_result"
    }
   ],
   "source": [
    "datafile"
   ]
  },
  {
   "cell_type": "code",
   "execution_count": 4,
   "metadata": {},
   "outputs": [
    {
     "data": {
      "text/plain": [
       "'file.txt'"
      ]
     },
     "execution_count": 4,
     "metadata": {},
     "output_type": "execute_result"
    }
   ],
   "source": [
    "datafile.name"
   ]
  },
  {
   "cell_type": "code",
   "execution_count": 5,
   "metadata": {},
   "outputs": [
    {
     "data": {
      "text/plain": [
       "'w+'"
      ]
     },
     "execution_count": 5,
     "metadata": {},
     "output_type": "execute_result"
    }
   ],
   "source": [
    "datafile.mode"
   ]
  },
  {
   "cell_type": "code",
   "execution_count": 6,
   "metadata": {},
   "outputs": [
    {
     "data": {
      "text/plain": [
       "False"
      ]
     },
     "execution_count": 6,
     "metadata": {},
     "output_type": "execute_result"
    }
   ],
   "source": [
    "datafile.closed"
   ]
  },
  {
   "cell_type": "code",
   "execution_count": 7,
   "metadata": {},
   "outputs": [],
   "source": [
    "# Now let's create some data to further put it in the file\n",
    "\n",
    "products = [['ProductID', 'Name', 'Price'], ['0001', 'Shoes', '49.99'], ['0011', 'Hat', '19.99'], ['0021', 'T-shirt', '29.99']]"
   ]
  },
  {
   "cell_type": "code",
   "execution_count": 8,
   "metadata": {},
   "outputs": [],
   "source": [
    "# Now we'll use join to create a single string for each row of list data and write it into the file\n",
    "\n",
    "for line in products:\n",
    "    datafile.write(\"%s\\n\" % \",\".join(line))"
   ]
  },
  {
   "cell_type": "code",
   "execution_count": 9,
   "metadata": {},
   "outputs": [
    {
     "data": {
      "text/plain": [
       "True"
      ]
     },
     "execution_count": 9,
     "metadata": {},
     "output_type": "execute_result"
    }
   ],
   "source": [
    "# Now we can close this stream\n",
    "datafile.close()\n",
    "\n",
    "# and we can check if it is closed\n",
    "datafile.closed"
   ]
  },
  {
   "cell_type": "code",
   "execution_count": 10,
   "metadata": {},
   "outputs": [],
   "source": [
    "# Now we can open a new stream to read that data\n",
    "\n",
    "data = open('file.txt', 'r')"
   ]
  },
  {
   "cell_type": "code",
   "execution_count": 11,
   "metadata": {},
   "outputs": [
    {
     "data": {
      "text/plain": [
       "<_io.TextIOWrapper name='file.txt' mode='r' encoding='cp1252'>"
      ]
     },
     "execution_count": 11,
     "metadata": {},
     "output_type": "execute_result"
    }
   ],
   "source": [
    "data"
   ]
  },
  {
   "cell_type": "code",
   "execution_count": 12,
   "metadata": {},
   "outputs": [
    {
     "name": "stdout",
     "output_type": "stream",
     "text": [
      "ProductID,Name,Price\n",
      "0001,Shoes,49.99\n",
      "0011,Hat,19.99\n",
      "0021,T-shirt,29.99\n",
      "\n"
     ]
    }
   ],
   "source": [
    "# to read the contents of our file we can do .read()\n",
    "\n",
    "print(data.read())"
   ]
  },
  {
   "cell_type": "code",
   "execution_count": 14,
   "metadata": {},
   "outputs": [
    {
     "name": "stdout",
     "output_type": "stream",
     "text": [
      "\n"
     ]
    }
   ],
   "source": [
    "# to read the contents of our file we can do .read()\n",
    "\n",
    "print(data.read())"
   ]
  },
  {
   "cell_type": "code",
   "execution_count": 11,
   "metadata": {},
   "outputs": [],
   "source": [
    "data.close()"
   ]
  },
  {
   "cell_type": "markdown",
   "metadata": {},
   "source": [
    "# CSV Files\n",
    "\n",
    "A particularly useful file format for data scientists is the csv format (comma separatted values). To easily handle csv files\n",
    "we can use the csv package, which we need to import first."
   ]
  },
  {
   "cell_type": "code",
   "execution_count": 27,
   "metadata": {},
   "outputs": [],
   "source": [
    "import csv\n",
    "# we will load the numpy to generate \n",
    "# a random matrix of numbers, we will talk more about numpy in the 4th lecture\n",
    "import numpy"
   ]
  },
  {
   "cell_type": "code",
   "execution_count": 38,
   "metadata": {},
   "outputs": [
    {
     "name": "stdout",
     "output_type": "stream",
     "text": [
      "[[0.6298589  0.91638974 0.41438391 0.09860005 0.46438036]\n",
      " [0.92688464 0.77061813 0.17839555 0.99206763 0.33428337]\n",
      " [0.4906214  0.39286379 0.5086225  0.98485958 0.93633876]\n",
      " [0.06972556 0.61300842 0.98065472 0.4581125  0.13982784]\n",
      " [0.52806234 0.33318942 0.70593334 0.77576271 0.38000097]]\n"
     ]
    }
   ],
   "source": [
    "matrix = numpy.random.random((5,5))\n",
    "print(matrix)"
   ]
  },
  {
   "cell_type": "code",
   "execution_count": 39,
   "metadata": {},
   "outputs": [],
   "source": [
    "file = open(\"matrix.csv\",\"w+\")"
   ]
  },
  {
   "cell_type": "code",
   "execution_count": 40,
   "metadata": {},
   "outputs": [],
   "source": [
    "# Return a writer object responsible for converting the user’s data into delimited strings on the given file-like object\n",
    "wr = csv.writer(file)"
   ]
  },
  {
   "cell_type": "code",
   "execution_count": 41,
   "metadata": {},
   "outputs": [],
   "source": [
    "# Write all elements in rows\n",
    "wr.writerows(matrix)\n",
    "file.close()"
   ]
  },
  {
   "cell_type": "code",
   "execution_count": 42,
   "metadata": {},
   "outputs": [],
   "source": [
    "readfile = open(\"matrix.csv\",\"r\") #opens file stream"
   ]
  },
  {
   "cell_type": "code",
   "execution_count": 43,
   "metadata": {},
   "outputs": [
    {
     "name": "stdout",
     "output_type": "stream",
     "text": [
      "[['0.6298589005569739', '0.916389739995089', '0.41438391070124736', '0.09860004539551948', '0.46438036230903834'], [], ['0.9268846354799861', '0.7706181288835423', '0.17839554964401771', '0.992067633308055', '0.3342833746433532'], [], ['0.4906213950305435', '0.3928637891212421', '0.5086225029056533', '0.9848595844413045', '0.9363387614226841'], [], ['0.06972556077565983', '0.6130084221321831', '0.9806547183629536', '0.4581124989741363', '0.13982784168069662'], [], ['0.5280623391526317', '0.3331894150563063', '0.7059333384480849', '0.7757627099578932', '0.38000097291424106'], []]\n"
     ]
    }
   ],
   "source": [
    "loaded_csv = csv.reader(readfile) #reads the csv file to lmatrix\n",
    "data = []\n",
    "\n",
    "for row in loaded_csv:\n",
    " data.append(row)\n",
    "\n",
    "print(data)\n",
    "#readfile.close() #closes file stream"
   ]
  },
  {
   "cell_type": "code",
   "execution_count": 44,
   "metadata": {},
   "outputs": [
    {
     "data": {
      "text/plain": [
       "<_io.TextIOWrapper name='matrix.csv' mode='r' encoding='cp1252'>"
      ]
     },
     "execution_count": 44,
     "metadata": {},
     "output_type": "execute_result"
    }
   ],
   "source": [
    "readfile"
   ]
  },
  {
   "cell_type": "code",
   "execution_count": 45,
   "metadata": {},
   "outputs": [
    {
     "name": "stdout",
     "output_type": "stream",
     "text": [
      "\n"
     ]
    }
   ],
   "source": [
    "print(readfile.read())"
   ]
  },
  {
   "cell_type": "code",
   "execution_count": null,
   "metadata": {},
   "outputs": [],
   "source": []
  }
 ],
 "metadata": {
  "kernelspec": {
   "display_name": "Python 3",
   "language": "python",
   "name": "python3"
  },
  "language_info": {
   "codemirror_mode": {
    "name": "ipython",
    "version": 3
   },
   "file_extension": ".py",
   "mimetype": "text/x-python",
   "name": "python",
   "nbconvert_exporter": "python",
   "pygments_lexer": "ipython3",
   "version": "3.7.4"
  },
  "toc": {
   "base_numbering": 1,
   "nav_menu": {},
   "number_sections": true,
   "sideBar": true,
   "skip_h1_title": true,
   "title_cell": "Table of Contents",
   "title_sidebar": "Contents",
   "toc_cell": false,
   "toc_position": {},
   "toc_section_display": true,
   "toc_window_display": false
  },
  "varInspector": {
   "cols": {
    "lenName": 16,
    "lenType": 16,
    "lenVar": 40
   },
   "kernels_config": {
    "python": {
     "delete_cmd_postfix": "",
     "delete_cmd_prefix": "del ",
     "library": "var_list.py",
     "varRefreshCmd": "print(var_dic_list())"
    },
    "r": {
     "delete_cmd_postfix": ") ",
     "delete_cmd_prefix": "rm(",
     "library": "var_list.r",
     "varRefreshCmd": "cat(var_dic_list()) "
    }
   },
   "types_to_exclude": [
    "module",
    "function",
    "builtin_function_or_method",
    "instance",
    "_Feature"
   ],
   "window_display": false
  }
 },
 "nbformat": 4,
 "nbformat_minor": 2
}
