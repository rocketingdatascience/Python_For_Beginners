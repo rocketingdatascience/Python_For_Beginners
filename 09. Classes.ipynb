{
 "cells": [
  {
   "cell_type": "markdown",
   "metadata": {},
   "source": [
    "# Python\n",
    "\n",
    "1. Vairables and Operatores\n",
    "2. Data Structures\n",
    "3. Flow Control with Loops and If Statements\n",
    "4. Import Python Modules\n",
    "5. Functions\n",
    "6. Lambda Functions\n",
    "7. Input-Output Operations to Files\n",
    "8. __Classes__\n",
    "9. Numpy\n",
    "10. Pandas\n",
    "11. Matplolib\n",
    "14. Project"
   ]
  },
  {
   "cell_type": "markdown",
   "metadata": {},
   "source": [
    "# Classes\n",
    "\n",
    "Classes allow us to perform Object Oriented Programming, since this is not a common approach in data science and given the scope of Python for Beginners, I won't go too much in detail on this topic, staying up to the basics.\n",
    "\n",
    "A class is a kind of data type, just like a string, integer or list. When we create an object of that data type, we call it an\n",
    "instance of a class. The data values which we store inside an object are called attributes."
   ]
  },
  {
   "cell_type": "code",
   "execution_count": 1,
   "metadata": {},
   "outputs": [],
   "source": [
    "class Company:\n",
    "    def __init__(self, name, founded, employees, revenue):\n",
    "        self.name = name\n",
    "        self.founded = founded\n",
    "        self.employees = employees\n",
    "        self.revenue = revenue"
   ]
  },
  {
   "cell_type": "markdown",
   "metadata": {},
   "source": [
    "The above class defines an object of name Company. You can define, and it is recommended that you do, an __init__\n",
    "object method. The __init__ is a special method that triggers whenever you initiate an instance of an object of this type.\n",
    "As you can see the __init__ takes several arguments. "
   ]
  },
  {
   "cell_type": "code",
   "execution_count": 2,
   "metadata": {},
   "outputs": [],
   "source": [
    "# define our first company attributes\n",
    "\n",
    "Apple = Company(\"Apple\", 1976, 147000, 57000000000)\n",
    "Tesla = Company(\"Tesla\", 2003, 48000, 31000000)"
   ]
  },
  {
   "cell_type": "code",
   "execution_count": 3,
   "metadata": {},
   "outputs": [
    {
     "data": {
      "text/plain": [
       "1976"
      ]
     },
     "execution_count": 3,
     "metadata": {},
     "output_type": "execute_result"
    }
   ],
   "source": [
    "# Now we can use our class attributes\n",
    "\n",
    "Apple.founded"
   ]
  },
  {
   "cell_type": "code",
   "execution_count": 4,
   "metadata": {},
   "outputs": [
    {
     "data": {
      "text/plain": [
       "147000"
      ]
     },
     "execution_count": 4,
     "metadata": {},
     "output_type": "execute_result"
    }
   ],
   "source": [
    "Apple.employees"
   ]
  },
  {
   "cell_type": "code",
   "execution_count": 5,
   "metadata": {},
   "outputs": [
    {
     "name": "stdout",
     "output_type": "stream",
     "text": [
      "Apple revenue is 57000000000 dolars\n",
      "Tesla revenue is 31000000 dolars\n"
     ]
    }
   ],
   "source": [
    "companies = [Apple, Tesla]\n",
    "\n",
    "for i in companies:\n",
    "    print(i.name, 'revenue is', i.revenue, 'dolars')"
   ]
  },
  {
   "cell_type": "markdown",
   "metadata": {},
   "source": [
    "Let's make things more interesting by adding a function to the class. This function ends to be a method from this class, which have self inside the method body. This gives us a way to access the object’s properties from inside the object’s methods."
   ]
  },
  {
   "cell_type": "code",
   "execution_count": 57,
   "metadata": {},
   "outputs": [],
   "source": [
    "import datetime\n",
    "\n",
    "class Companies:\n",
    "    def __init__(self, name, founded, employees, revenue):\n",
    "        self.name = name\n",
    "        self.founded = founded\n",
    "        self.employees = employees\n",
    "        self.revenue = revenue\n",
    "        \n",
    "    def age(self):\n",
    "        today = datetime.date.today()\n",
    "        age = today.year - self.founded\n",
    "        return age"
   ]
  },
  {
   "cell_type": "code",
   "execution_count": 58,
   "metadata": {},
   "outputs": [],
   "source": [
    "# define our first company attributes\n",
    "\n",
    "Apple = Companies(\"Apple\", 1976, 147000, 57000000000)\n",
    "Tesla = Companies(\"Tesla\", 2003, 48000, 31000000)"
   ]
  },
  {
   "cell_type": "code",
   "execution_count": 59,
   "metadata": {},
   "outputs": [
    {
     "data": {
      "text/plain": [
       "18"
      ]
     },
     "execution_count": 59,
     "metadata": {},
     "output_type": "execute_result"
    }
   ],
   "source": [
    "Tesla.age()"
   ]
  },
  {
   "cell_type": "code",
   "execution_count": 25,
   "metadata": {},
   "outputs": [],
   "source": [
    "today = datetime.date.today()"
   ]
  },
  {
   "cell_type": "code",
   "execution_count": 16,
   "metadata": {},
   "outputs": [
    {
     "data": {
      "text/plain": [
       "datetime.date(2021, 4, 3)"
      ]
     },
     "execution_count": 16,
     "metadata": {},
     "output_type": "execute_result"
    }
   ],
   "source": [
    "today"
   ]
  },
  {
   "cell_type": "code",
   "execution_count": 17,
   "metadata": {},
   "outputs": [
    {
     "data": {
      "text/plain": [
       "18"
      ]
     },
     "execution_count": 17,
     "metadata": {},
     "output_type": "execute_result"
    }
   ],
   "source": [
    "today.year - Tesla.founded"
   ]
  },
  {
   "cell_type": "code",
   "execution_count": null,
   "metadata": {},
   "outputs": [],
   "source": []
  }
 ],
 "metadata": {
  "kernelspec": {
   "display_name": "Python 3",
   "language": "python",
   "name": "python3"
  },
  "language_info": {
   "codemirror_mode": {
    "name": "ipython",
    "version": 3
   },
   "file_extension": ".py",
   "mimetype": "text/x-python",
   "name": "python",
   "nbconvert_exporter": "python",
   "pygments_lexer": "ipython3",
   "version": "3.7.4"
  },
  "toc": {
   "base_numbering": 1,
   "nav_menu": {},
   "number_sections": true,
   "sideBar": true,
   "skip_h1_title": true,
   "title_cell": "Table of Contents",
   "title_sidebar": "Contents",
   "toc_cell": false,
   "toc_position": {},
   "toc_section_display": true,
   "toc_window_display": false
  },
  "varInspector": {
   "cols": {
    "lenName": 16,
    "lenType": 16,
    "lenVar": 40
   },
   "kernels_config": {
    "python": {
     "delete_cmd_postfix": "",
     "delete_cmd_prefix": "del ",
     "library": "var_list.py",
     "varRefreshCmd": "print(var_dic_list())"
    },
    "r": {
     "delete_cmd_postfix": ") ",
     "delete_cmd_prefix": "rm(",
     "library": "var_list.r",
     "varRefreshCmd": "cat(var_dic_list()) "
    }
   },
   "types_to_exclude": [
    "module",
    "function",
    "builtin_function_or_method",
    "instance",
    "_Feature"
   ],
   "window_display": false
  }
 },
 "nbformat": 4,
 "nbformat_minor": 2
}
