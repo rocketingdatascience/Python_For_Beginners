{
 "cells": [
  {
   "cell_type": "markdown",
   "metadata": {},
   "source": [
    "# Python\n",
    "\n",
    "1. Variables and Operatores\n",
    "2. Data Structures\n",
    "3. Flow Control with Loops and If Statements\n",
    "4. __Import Python Modules__\n",
    "5. Functions\n",
    "6. Lambda Functions\n",
    "7. Input-Output Operations to Files\n",
    "8. Classes\n",
    "9. Numpy\n",
    "10. Pandas\n",
    "11. Matplolib\n",
    "14. Project"
   ]
  },
  {
   "cell_type": "markdown",
   "metadata": {},
   "source": [
    "Power\n",
    "\n",
    "- We covered the basics of python, the baseline code\n",
    "- You can do whatever you want from here \n",
    "- However, there is something that makes our lifes much easier\n",
    "- Modules\n",
    "- Which are extensions of python\n",
    "- Contains more features and fuctions ready to use\n",
    "\n",
    "\n",
    "- I'll keep covering aditional Python basics as we go further to other topics in this series. Stick with me.\n",
    "\n",
    "\n",
    "\n",
    "# Python Modules\n",
    "\n",
    "Python Documentation: https://www.python.org/\n",
    "\n",
    "Modules Index: https://docs.python.org/3/py-modindex.html\n",
    "\n",
    "And this is it, have fun !!"
   ]
  },
  {
   "cell_type": "markdown",
   "metadata": {},
   "source": [
    "What is a module ?\n",
    "\n",
    "Modules are one of the reasons that makes Python so used in Data Science. There is a lots of useful modules available that makes Data Scientist lifes easier.\n",
    "\n",
    "How to use a module ?"
   ]
  },
  {
   "cell_type": "markdown",
   "metadata": {},
   "source": [
    "import ModuleName"
   ]
  },
  {
   "cell_type": "code",
   "execution_count": 2,
   "metadata": {},
   "outputs": [
    {
     "name": "stdout",
     "output_type": "stream",
     "text": [
      "[0.51, 0.75, 0.95, 0.27, 0.44, 0.02, 0.79, 0.32, 0.37, 0.31]\n",
      "[85037, 92948, 82287, 83841, 81449, 93516, 82929, 83020, 82413, 87988]\n"
     ]
    }
   ],
   "source": [
    "# To generate random numbers\n",
    "\n",
    "import random\n",
    "\n",
    "randomFloats = []\n",
    "rSalaries = []\n",
    "x = 0\n",
    "\n",
    "while x < 10:\n",
    "    i = random.random()\n",
    "    u = random.randrange(75000, 100000)\n",
    "    randomFloats.append(round(i, 2))\n",
    "    rSalaries.append(u)\n",
    "    x += 1\n",
    "    \n",
    "print(randomFloats)\n",
    "print(rSalaries)"
   ]
  },
  {
   "cell_type": "code",
   "execution_count": 3,
   "metadata": {},
   "outputs": [
    {
     "data": {
      "text/plain": [
       "[81449, 83020, 83841, 82287]"
      ]
     },
     "execution_count": 3,
     "metadata": {},
     "output_type": "execute_result"
    }
   ],
   "source": [
    "random.sample(rSalaries, 4)"
   ]
  },
  {
   "cell_type": "markdown",
   "metadata": {},
   "source": [
    "# Statistics"
   ]
  },
  {
   "cell_type": "code",
   "execution_count": 4,
   "metadata": {},
   "outputs": [],
   "source": [
    "import statistics as stats"
   ]
  },
  {
   "cell_type": "code",
   "execution_count": 5,
   "metadata": {},
   "outputs": [
    {
     "data": {
      "text/plain": [
       "85542.8"
      ]
     },
     "execution_count": 5,
     "metadata": {},
     "output_type": "execute_result"
    }
   ],
   "source": [
    "stats.mean(rSalaries)"
   ]
  },
  {
   "cell_type": "code",
   "execution_count": 6,
   "metadata": {},
   "outputs": [
    {
     "data": {
      "text/plain": [
       "83430.5"
      ]
     },
     "execution_count": 6,
     "metadata": {},
     "output_type": "execute_result"
    }
   ],
   "source": [
    "stats.median(rSalaries)"
   ]
  },
  {
   "cell_type": "markdown",
   "metadata": {},
   "source": [
    "# Math"
   ]
  },
  {
   "cell_type": "code",
   "execution_count": 7,
   "metadata": {},
   "outputs": [],
   "source": [
    "import math"
   ]
  },
  {
   "cell_type": "code",
   "execution_count": 8,
   "metadata": {},
   "outputs": [
    {
     "name": "stdout",
     "output_type": "stream",
     "text": [
      "Write any number: 5\n",
      "The factorial of 5 is 120\n"
     ]
    }
   ],
   "source": [
    "number = int(input('Write any number: '))\n",
    "\n",
    "factorial = math.factorial(number)\n",
    "\n",
    "print('The factorial of {} is {}' .format(number, factorial))"
   ]
  },
  {
   "cell_type": "markdown",
   "metadata": {},
   "source": [
    "# Dates "
   ]
  },
  {
   "cell_type": "code",
   "execution_count": 7,
   "metadata": {},
   "outputs": [],
   "source": [
    "import datetime\n",
    "from datetime import date"
   ]
  },
  {
   "cell_type": "code",
   "execution_count": 10,
   "metadata": {},
   "outputs": [
    {
     "data": {
      "text/plain": [
       "datetime.date(2021, 2, 16)"
      ]
     },
     "execution_count": 10,
     "metadata": {},
     "output_type": "execute_result"
    }
   ],
   "source": [
    "today = date.today()\n",
    "today"
   ]
  },
  {
   "cell_type": "code",
   "execution_count": 8,
   "metadata": {},
   "outputs": [],
   "source": [
    "def program_100years():\n",
    "    name = input('First name: ')\n",
    "    age = int(input('Age: '))\n",
    "    today = date.today()\n",
    "    year = datetime.date.today().year\n",
    "    result = year - age + 100\n",
    "\n",
    "    print(name, \", you'll be 100 years old in {}.\" .format(result))"
   ]
  },
  {
   "cell_type": "code",
   "execution_count": 9,
   "metadata": {},
   "outputs": [
    {
     "name": "stdout",
     "output_type": "stream",
     "text": [
      "First name: pp\n",
      "Age: 27\n",
      "pp , you'll be 100 years old in 2094.\n"
     ]
    }
   ],
   "source": [
    "program_100years()"
   ]
  },
  {
   "cell_type": "markdown",
   "metadata": {},
   "source": [
    "# External Modules and Libraries"
   ]
  },
  {
   "cell_type": "markdown",
   "metadata": {},
   "source": [
    "https://www.python.org/\n",
    "\n",
    "https://docs.python.org/3/installing/index.html"
   ]
  },
  {
   "cell_type": "code",
   "execution_count": null,
   "metadata": {},
   "outputs": [],
   "source": [
    "pip install emoji"
   ]
  },
  {
   "cell_type": "code",
   "execution_count": 12,
   "metadata": {},
   "outputs": [],
   "source": [
    "import emoji"
   ]
  },
  {
   "cell_type": "code",
   "execution_count": 13,
   "metadata": {},
   "outputs": [
    {
     "name": "stdout",
     "output_type": "stream",
     "text": [
      "Hello World ! 👋 🌎\n"
     ]
    }
   ],
   "source": [
    "print(emoji.emojize(\"Hello World ! :wave: :earth_americas:\", use_aliases=True))"
   ]
  },
  {
   "cell_type": "markdown",
   "metadata": {},
   "source": [
    "I advise you to take a few minutes to explore and check other modules and their summary, it is a good way to get familiar with what you can do by importing them. (Link in the description)"
   ]
  },
  {
   "cell_type": "code",
   "execution_count": 27,
   "metadata": {},
   "outputs": [
    {
     "name": "stdout",
     "output_type": "stream",
     "text": [
      "How many companies stocks to I own? 5\n",
      "Write the value you have for each company: 100\n",
      "Write the value you have for each company: 250\n",
      "Write the value you have for each company: 362\n",
      "Write the value you have for each company: 140\n",
      "Write the value you have for each company: 200\n",
      "The total value is  1052\n",
      "Mean value is  210.4\n"
     ]
    }
   ],
   "source": [
    "# Solução\n",
    "\n",
    "stocks = int(input('How many companies stocks to I own? '))\n",
    "values = []\n",
    "i = 0\n",
    "\n",
    "while i < stocks:\n",
    "    value = int(input('Write the value you have for each company: '))\n",
    "    values.append(value)\n",
    "    i += 1\n",
    "\n",
    "print('The total value is ', sum(values))\n",
    "print('Mean value is ', stats.mean(values))"
   ]
  }
 ],
 "metadata": {
  "kernelspec": {
   "display_name": "Python 3",
   "language": "python",
   "name": "python3"
  },
  "language_info": {
   "codemirror_mode": {
    "name": "ipython",
    "version": 3
   },
   "file_extension": ".py",
   "mimetype": "text/x-python",
   "name": "python",
   "nbconvert_exporter": "python",
   "pygments_lexer": "ipython3",
   "version": "3.7.4"
  },
  "toc": {
   "base_numbering": 1,
   "nav_menu": {},
   "number_sections": true,
   "sideBar": true,
   "skip_h1_title": true,
   "title_cell": "Table of Contents",
   "title_sidebar": "Contents",
   "toc_cell": false,
   "toc_position": {},
   "toc_section_display": true,
   "toc_window_display": false
  },
  "varInspector": {
   "cols": {
    "lenName": 16,
    "lenType": 16,
    "lenVar": 40
   },
   "kernels_config": {
    "python": {
     "delete_cmd_postfix": "",
     "delete_cmd_prefix": "del ",
     "library": "var_list.py",
     "varRefreshCmd": "print(var_dic_list())"
    },
    "r": {
     "delete_cmd_postfix": ") ",
     "delete_cmd_prefix": "rm(",
     "library": "var_list.r",
     "varRefreshCmd": "cat(var_dic_list()) "
    }
   },
   "types_to_exclude": [
    "module",
    "function",
    "builtin_function_or_method",
    "instance",
    "_Feature"
   ],
   "window_display": false
  }
 },
 "nbformat": 4,
 "nbformat_minor": 2
}
